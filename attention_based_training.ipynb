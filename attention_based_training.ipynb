{
 "cells": [
  {
   "cell_type": "code",
   "execution_count": null,
   "metadata": {},
   "outputs": [],
   "source": [
    "\"\"\"REFERENCES\"\"\"\n",
    "# https://github.com/philipperemy/keras-attention-mechanism\n",
    "# https://www.kaggle.com/code/miljan/stock-predictions-with-multi-head-attention/notebook\n",
    "# https://github.com/zshicode/Attention-CLX-stock-prediction"
   ]
  }
 ],
 "metadata": {
  "language_info": {
   "name": "python"
  },
  "orig_nbformat": 4
 },
 "nbformat": 4,
 "nbformat_minor": 2
}
