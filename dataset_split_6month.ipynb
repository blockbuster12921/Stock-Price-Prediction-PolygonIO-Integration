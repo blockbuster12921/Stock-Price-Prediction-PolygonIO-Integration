{
 "cells": [
  {
   "cell_type": "code",
   "execution_count": 1,
   "metadata": {},
   "outputs": [],
   "source": [
    "import pandas as pd"
   ]
  },
  {
   "cell_type": "code",
   "execution_count": 2,
   "metadata": {},
   "outputs": [
    {
     "name": "stdout",
     "output_type": "stream",
     "text": [
      "  symbol           unix                 t       o       h       l       c  \\\n",
      "0   TSLA  1662019200000  2022-09-01 04:00  271.57  272.66  270.39  271.00   \n",
      "1   TSLA  1662019260000  2022-09-01 04:01  271.05  271.10  271.00  271.00   \n",
      "2   TSLA  1662019320000  2022-09-01 04:02  270.66  270.66  270.16  270.16   \n",
      "3   TSLA  1662019380000  2022-09-01 04:03  270.48  270.61  270.40  270.54   \n",
      "4   TSLA  1662019440000  2022-09-01 04:04  270.54  270.54  270.50  270.54   \n",
      "\n",
      "       v        vw  \n",
      "0  13617  271.1647  \n",
      "1   2424  271.0240  \n",
      "2   4099  270.4396  \n",
      "3   4557  270.5173  \n",
      "4  11864  270.5353  \n",
      "Index(['symbol', 'unix', 't', 'o', 'h', 'l', 'c', 'v', 'vw'], dtype='object')\n"
     ]
    }
   ],
   "source": [
    "# Load the dataset into dataframe\n",
    "df = pd.read_csv('./DATASET/candles_6_month.csv')\n",
    "print(df.head(5))\n",
    "print(df.columns)"
   ]
  },
  {
   "cell_type": "code",
   "execution_count": 3,
   "metadata": {},
   "outputs": [
    {
     "name": "stdout",
     "output_type": "stream",
     "text": [
      "['TSLA' 'AMD']\n"
     ]
    }
   ],
   "source": [
    "print(df['symbol'].unique())"
   ]
  },
  {
   "cell_type": "code",
   "execution_count": 8,
   "metadata": {},
   "outputs": [
    {
     "data": {
      "text/html": [
       "<div>\n",
       "<style scoped>\n",
       "    .dataframe tbody tr th:only-of-type {\n",
       "        vertical-align: middle;\n",
       "    }\n",
       "\n",
       "    .dataframe tbody tr th {\n",
       "        vertical-align: top;\n",
       "    }\n",
       "\n",
       "    .dataframe thead th {\n",
       "        text-align: right;\n",
       "    }\n",
       "</style>\n",
       "<table border=\"1\" class=\"dataframe\">\n",
       "  <thead>\n",
       "    <tr style=\"text-align: right;\">\n",
       "      <th></th>\n",
       "      <th>symbol</th>\n",
       "      <th>time stamp</th>\n",
       "      <th>open</th>\n",
       "      <th>high</th>\n",
       "      <th>low</th>\n",
       "      <th>close</th>\n",
       "      <th>volume</th>\n",
       "    </tr>\n",
       "  </thead>\n",
       "  <tbody>\n",
       "    <tr>\n",
       "      <th>0</th>\n",
       "      <td>TSLA</td>\n",
       "      <td>2022-09-01 04:00</td>\n",
       "      <td>271.57</td>\n",
       "      <td>272.66</td>\n",
       "      <td>270.39</td>\n",
       "      <td>271.00</td>\n",
       "      <td>13617</td>\n",
       "    </tr>\n",
       "    <tr>\n",
       "      <th>1</th>\n",
       "      <td>TSLA</td>\n",
       "      <td>2022-09-01 04:01</td>\n",
       "      <td>271.05</td>\n",
       "      <td>271.10</td>\n",
       "      <td>271.00</td>\n",
       "      <td>271.00</td>\n",
       "      <td>2424</td>\n",
       "    </tr>\n",
       "    <tr>\n",
       "      <th>2</th>\n",
       "      <td>TSLA</td>\n",
       "      <td>2022-09-01 04:02</td>\n",
       "      <td>270.66</td>\n",
       "      <td>270.66</td>\n",
       "      <td>270.16</td>\n",
       "      <td>270.16</td>\n",
       "      <td>4099</td>\n",
       "    </tr>\n",
       "    <tr>\n",
       "      <th>3</th>\n",
       "      <td>TSLA</td>\n",
       "      <td>2022-09-01 04:03</td>\n",
       "      <td>270.48</td>\n",
       "      <td>270.61</td>\n",
       "      <td>270.40</td>\n",
       "      <td>270.54</td>\n",
       "      <td>4557</td>\n",
       "    </tr>\n",
       "    <tr>\n",
       "      <th>4</th>\n",
       "      <td>TSLA</td>\n",
       "      <td>2022-09-01 04:04</td>\n",
       "      <td>270.54</td>\n",
       "      <td>270.54</td>\n",
       "      <td>270.50</td>\n",
       "      <td>270.54</td>\n",
       "      <td>11864</td>\n",
       "    </tr>\n",
       "    <tr>\n",
       "      <th>...</th>\n",
       "      <td>...</td>\n",
       "      <td>...</td>\n",
       "      <td>...</td>\n",
       "      <td>...</td>\n",
       "      <td>...</td>\n",
       "      <td>...</td>\n",
       "      <td>...</td>\n",
       "    </tr>\n",
       "    <tr>\n",
       "      <th>253355</th>\n",
       "      <td>AMD</td>\n",
       "      <td>2023-03-13 19:55</td>\n",
       "      <td>82.16</td>\n",
       "      <td>82.16</td>\n",
       "      <td>82.16</td>\n",
       "      <td>82.16</td>\n",
       "      <td>1220</td>\n",
       "    </tr>\n",
       "    <tr>\n",
       "      <th>253356</th>\n",
       "      <td>AMD</td>\n",
       "      <td>2023-03-13 19:56</td>\n",
       "      <td>82.16</td>\n",
       "      <td>82.16</td>\n",
       "      <td>82.16</td>\n",
       "      <td>82.16</td>\n",
       "      <td>500</td>\n",
       "    </tr>\n",
       "    <tr>\n",
       "      <th>253357</th>\n",
       "      <td>AMD</td>\n",
       "      <td>2023-03-13 19:57</td>\n",
       "      <td>82.18</td>\n",
       "      <td>82.18</td>\n",
       "      <td>82.18</td>\n",
       "      <td>82.18</td>\n",
       "      <td>277</td>\n",
       "    </tr>\n",
       "    <tr>\n",
       "      <th>253358</th>\n",
       "      <td>AMD</td>\n",
       "      <td>2023-03-13 19:58</td>\n",
       "      <td>82.19</td>\n",
       "      <td>82.19</td>\n",
       "      <td>82.19</td>\n",
       "      <td>82.19</td>\n",
       "      <td>186</td>\n",
       "    </tr>\n",
       "    <tr>\n",
       "      <th>253359</th>\n",
       "      <td>AMD</td>\n",
       "      <td>2023-03-13 19:59</td>\n",
       "      <td>82.19</td>\n",
       "      <td>82.28</td>\n",
       "      <td>82.19</td>\n",
       "      <td>82.25</td>\n",
       "      <td>6489</td>\n",
       "    </tr>\n",
       "  </tbody>\n",
       "</table>\n",
       "<p>253360 rows × 7 columns</p>\n",
       "</div>"
      ],
      "text/plain": [
       "       symbol        time stamp    open    high     low   close  volume\n",
       "0        TSLA  2022-09-01 04:00  271.57  272.66  270.39  271.00   13617\n",
       "1        TSLA  2022-09-01 04:01  271.05  271.10  271.00  271.00    2424\n",
       "2        TSLA  2022-09-01 04:02  270.66  270.66  270.16  270.16    4099\n",
       "3        TSLA  2022-09-01 04:03  270.48  270.61  270.40  270.54    4557\n",
       "4        TSLA  2022-09-01 04:04  270.54  270.54  270.50  270.54   11864\n",
       "...       ...               ...     ...     ...     ...     ...     ...\n",
       "253355    AMD  2023-03-13 19:55   82.16   82.16   82.16   82.16    1220\n",
       "253356    AMD  2023-03-13 19:56   82.16   82.16   82.16   82.16     500\n",
       "253357    AMD  2023-03-13 19:57   82.18   82.18   82.18   82.18     277\n",
       "253358    AMD  2023-03-13 19:58   82.19   82.19   82.19   82.19     186\n",
       "253359    AMD  2023-03-13 19:59   82.19   82.28   82.19   82.25    6489\n",
       "\n",
       "[253360 rows x 7 columns]"
      ]
     },
     "execution_count": 8,
     "metadata": {},
     "output_type": "execute_result"
    }
   ],
   "source": [
    "# Rename the columns as sample format\n",
    "df = df.rename(columns={'t': 'time stamp', 'o': 'open', 'h': 'high', 'l': 'low', 'c': 'close', \\\n",
    "                   'v': 'volume'})[['symbol', 'time stamp', 'open', 'high', 'low', 'close', 'volume']]\n",
    "df"
   ]
  },
  {
   "cell_type": "code",
   "execution_count": 26,
   "metadata": {},
   "outputs": [
    {
     "name": "stdout",
     "output_type": "stream",
     "text": [
      "  symbol        time stamp    open    high     low   close  volume\n",
      "0   TSLA  2022-09-01 04:00  271.57  272.66  270.39  271.00   13617\n",
      "1   TSLA  2022-09-01 04:01  271.05  271.10  271.00  271.00    2424\n",
      "2   TSLA  2022-09-01 04:02  270.66  270.66  270.16  270.16    4099\n",
      "3   TSLA  2022-09-01 04:03  270.48  270.61  270.40  270.54    4557\n",
      "4   TSLA  2022-09-01 04:04  270.54  270.54  270.50  270.54   11864\n",
      "  symbol        time stamp   open   high    low  close  volume\n",
      "0    AMD  2022-09-01 04:00  81.65  82.12  81.60  82.04    1969\n",
      "1    AMD  2022-09-01 04:01  81.87  81.99  81.87  81.87    1597\n",
      "2    AMD  2022-09-01 04:02  81.87  81.87  81.66  81.71    6128\n",
      "3    AMD  2022-09-01 04:03  81.65  81.65  81.54  81.55   10849\n",
      "4    AMD  2022-09-01 04:04  81.84  81.90  81.80  81.80    1894\n"
     ]
    }
   ],
   "source": [
    "# Create the dataframe for each stock\n",
    "df_tsla = df[df['symbol'] == 'TSLA']\n",
    "df_tsla = df_tsla.reset_index()\n",
    "df_tsla['index'] = df_tsla['index'] - df_tsla['index'][0]\n",
    "\n",
    "df_amd = df[df['symbol'] == 'AMD']\n",
    "df_amd = df_amd.reset_index()\n",
    "df_amd['index'] = df_amd['index'] - df_amd['index'][0]\n",
    "\n",
    "df_tsla = df_tsla[['symbol', 'time stamp', 'open', 'high', 'low', 'close', 'volume']]\n",
    "df_amd = df_amd[['symbol', 'time stamp', 'open', 'high', 'low', 'close', 'volume']]\n",
    "print(df_tsla.head(5))\n",
    "print(df_amd.head(5))"
   ]
  },
  {
   "cell_type": "code",
   "execution_count": 27,
   "metadata": {},
   "outputs": [],
   "source": [
    "df_tsla.to_csv('./DATASET/tsla_6month.csv')\n",
    "df_amd.to_csv('./DATASET/amd_6month.csv')"
   ]
  },
  {
   "cell_type": "code",
   "execution_count": null,
   "metadata": {},
   "outputs": [],
   "source": []
  }
 ],
 "metadata": {
  "kernelspec": {
   "display_name": "env_3_7_8",
   "language": "python",
   "name": "python3"
  },
  "language_info": {
   "codemirror_mode": {
    "name": "ipython",
    "version": 3
   },
   "file_extension": ".py",
   "mimetype": "text/x-python",
   "name": "python",
   "nbconvert_exporter": "python",
   "pygments_lexer": "ipython3",
   "version": "3.7.16"
  },
  "orig_nbformat": 4
 },
 "nbformat": 4,
 "nbformat_minor": 2
}
